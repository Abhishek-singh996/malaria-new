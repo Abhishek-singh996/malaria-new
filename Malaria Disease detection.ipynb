{
 "cells": [
  {
   "cell_type": "code",
   "execution_count": 1,
   "id": "705d326a",
   "metadata": {},
   "outputs": [
    {
     "name": "stdout",
     "output_type": "stream",
     "text": [
      "Init Plugin\n",
      "Init Graph Optimizer\n",
      "Init Kernel\n"
     ]
    }
   ],
   "source": [
    "# import the libraries as shown below\n",
    "\n",
    "from tensorflow.keras.layers import Input, Lambda, Dense, Flatten,Conv2D\n",
    "from tensorflow.keras.models import Model\n",
    "from tensorflow.keras.applications.vgg19 import VGG19\n",
    "from tensorflow.keras.applications.resnet50 import preprocess_input\n",
    "from tensorflow.keras.preprocessing import image\n",
    "from tensorflow.keras.preprocessing.image import ImageDataGenerator,load_img\n",
    "from tensorflow.keras.models import Sequential\n",
    "import numpy as np\n",
    "from glob import glob\n",
    "import matplotlib.pyplot as plt"
   ]
  },
  {
   "cell_type": "code",
   "execution_count": 2,
   "id": "fc7de8df",
   "metadata": {},
   "outputs": [],
   "source": [
    "# re-size all the images to this\n",
    "IMAGE_SIZE = [224, 224]\n",
    "\n",
    "train_path = '/Users/abhisheksingh/Desktop/Anandi project/Malaria-Detection-master/Dataset/Train'\n",
    "valid_path = '/Users/abhisheksingh/Desktop/Anandi project/Malaria-Detection-master/Dataset/Test'"
   ]
  },
  {
   "cell_type": "code",
   "execution_count": 3,
   "id": "10307cac",
   "metadata": {},
   "outputs": [
    {
     "name": "stdout",
     "output_type": "stream",
     "text": [
      "Metal device set to: Apple M1\n"
     ]
    },
    {
     "name": "stderr",
     "output_type": "stream",
     "text": [
      "2022-03-16 19:32:39.055605: I tensorflow/core/common_runtime/pluggable_device/pluggable_device_factory.cc:305] Could not identify NUMA node of platform GPU ID 0, defaulting to 0. Your kernel may not have been built with NUMA support.\n",
      "2022-03-16 19:32:39.055850: I tensorflow/core/common_runtime/pluggable_device/pluggable_device_factory.cc:271] Created TensorFlow device (/job:localhost/replica:0/task:0/device:GPU:0 with 0 MB memory) -> physical PluggableDevice (device: 0, name: METAL, pci bus id: <undefined>)\n"
     ]
    }
   ],
   "source": [
    "vgg19 = VGG19(input_shape=IMAGE_SIZE + [3], weights='imagenet', include_top=False)"
   ]
  },
  {
   "cell_type": "code",
   "execution_count": 4,
   "id": "27657eb6",
   "metadata": {},
   "outputs": [
    {
     "name": "stdout",
     "output_type": "stream",
     "text": [
      "Model: \"vgg19\"\n",
      "_________________________________________________________________\n",
      "Layer (type)                 Output Shape              Param #   \n",
      "=================================================================\n",
      "input_1 (InputLayer)         [(None, 224, 224, 3)]     0         \n",
      "_________________________________________________________________\n",
      "block1_conv1 (Conv2D)        (None, 224, 224, 64)      1792      \n",
      "_________________________________________________________________\n",
      "block1_conv2 (Conv2D)        (None, 224, 224, 64)      36928     \n",
      "_________________________________________________________________\n",
      "block1_pool (MaxPooling2D)   (None, 112, 112, 64)      0         \n",
      "_________________________________________________________________\n",
      "block2_conv1 (Conv2D)        (None, 112, 112, 128)     73856     \n",
      "_________________________________________________________________\n",
      "block2_conv2 (Conv2D)        (None, 112, 112, 128)     147584    \n",
      "_________________________________________________________________\n",
      "block2_pool (MaxPooling2D)   (None, 56, 56, 128)       0         \n",
      "_________________________________________________________________\n",
      "block3_conv1 (Conv2D)        (None, 56, 56, 256)       295168    \n",
      "_________________________________________________________________\n",
      "block3_conv2 (Conv2D)        (None, 56, 56, 256)       590080    \n",
      "_________________________________________________________________\n",
      "block3_conv3 (Conv2D)        (None, 56, 56, 256)       590080    \n",
      "_________________________________________________________________\n",
      "block3_conv4 (Conv2D)        (None, 56, 56, 256)       590080    \n",
      "_________________________________________________________________\n",
      "block3_pool (MaxPooling2D)   (None, 28, 28, 256)       0         \n",
      "_________________________________________________________________\n",
      "block4_conv1 (Conv2D)        (None, 28, 28, 512)       1180160   \n",
      "_________________________________________________________________\n",
      "block4_conv2 (Conv2D)        (None, 28, 28, 512)       2359808   \n",
      "_________________________________________________________________\n",
      "block4_conv3 (Conv2D)        (None, 28, 28, 512)       2359808   \n",
      "_________________________________________________________________\n",
      "block4_conv4 (Conv2D)        (None, 28, 28, 512)       2359808   \n",
      "_________________________________________________________________\n",
      "block4_pool (MaxPooling2D)   (None, 14, 14, 512)       0         \n",
      "_________________________________________________________________\n",
      "block5_conv1 (Conv2D)        (None, 14, 14, 512)       2359808   \n",
      "_________________________________________________________________\n",
      "block5_conv2 (Conv2D)        (None, 14, 14, 512)       2359808   \n",
      "_________________________________________________________________\n",
      "block5_conv3 (Conv2D)        (None, 14, 14, 512)       2359808   \n",
      "_________________________________________________________________\n",
      "block5_conv4 (Conv2D)        (None, 14, 14, 512)       2359808   \n",
      "_________________________________________________________________\n",
      "block5_pool (MaxPooling2D)   (None, 7, 7, 512)         0         \n",
      "=================================================================\n",
      "Total params: 20,024,384\n",
      "Trainable params: 20,024,384\n",
      "Non-trainable params: 0\n",
      "_________________________________________________________________\n"
     ]
    }
   ],
   "source": [
    "vgg19.summary()"
   ]
  },
  {
   "cell_type": "code",
   "execution_count": 5,
   "id": "43b91b2f",
   "metadata": {},
   "outputs": [],
   "source": [
    "# don't train existing weights\n",
    "for layer in vgg19.layers:\n",
    "    layer.trainable = False"
   ]
  },
  {
   "cell_type": "code",
   "execution_count": 6,
   "id": "9be5fb09",
   "metadata": {},
   "outputs": [],
   "source": [
    "  # useful for getting number of output classes\n",
    "folders = glob('/Users/abhisheksingh/Desktop/Anandi project/Malaria-Detection-master/Dataset/Train/*')"
   ]
  },
  {
   "cell_type": "code",
   "execution_count": 7,
   "id": "6a4ba054",
   "metadata": {},
   "outputs": [
    {
     "data": {
      "text/plain": [
       "['/Users/abhisheksingh/Desktop/Anandi project/Malaria-Detection-master/Dataset/Train/Parasite',\n",
       " '/Users/abhisheksingh/Desktop/Anandi project/Malaria-Detection-master/Dataset/Train/Uninfected']"
      ]
     },
     "execution_count": 7,
     "metadata": {},
     "output_type": "execute_result"
    }
   ],
   "source": [
    "folders"
   ]
  },
  {
   "cell_type": "code",
   "execution_count": 8,
   "id": "2acad209",
   "metadata": {},
   "outputs": [],
   "source": [
    "\n",
    "x = Flatten()(vgg19.output)"
   ]
  },
  {
   "cell_type": "code",
   "execution_count": 9,
   "id": "bd739551",
   "metadata": {},
   "outputs": [],
   "source": [
    "prediction = Dense(len(folders), activation='softmax')(x)\n",
    "\n",
    "# create a model object\n",
    "model = Model(inputs=vgg19.input, outputs=prediction)"
   ]
  },
  {
   "cell_type": "code",
   "execution_count": 10,
   "id": "7111244c",
   "metadata": {},
   "outputs": [
    {
     "name": "stdout",
     "output_type": "stream",
     "text": [
      "Model: \"model\"\n",
      "_________________________________________________________________\n",
      "Layer (type)                 Output Shape              Param #   \n",
      "=================================================================\n",
      "input_1 (InputLayer)         [(None, 224, 224, 3)]     0         \n",
      "_________________________________________________________________\n",
      "block1_conv1 (Conv2D)        (None, 224, 224, 64)      1792      \n",
      "_________________________________________________________________\n",
      "block1_conv2 (Conv2D)        (None, 224, 224, 64)      36928     \n",
      "_________________________________________________________________\n",
      "block1_pool (MaxPooling2D)   (None, 112, 112, 64)      0         \n",
      "_________________________________________________________________\n",
      "block2_conv1 (Conv2D)        (None, 112, 112, 128)     73856     \n",
      "_________________________________________________________________\n",
      "block2_conv2 (Conv2D)        (None, 112, 112, 128)     147584    \n",
      "_________________________________________________________________\n",
      "block2_pool (MaxPooling2D)   (None, 56, 56, 128)       0         \n",
      "_________________________________________________________________\n",
      "block3_conv1 (Conv2D)        (None, 56, 56, 256)       295168    \n",
      "_________________________________________________________________\n",
      "block3_conv2 (Conv2D)        (None, 56, 56, 256)       590080    \n",
      "_________________________________________________________________\n",
      "block3_conv3 (Conv2D)        (None, 56, 56, 256)       590080    \n",
      "_________________________________________________________________\n",
      "block3_conv4 (Conv2D)        (None, 56, 56, 256)       590080    \n",
      "_________________________________________________________________\n",
      "block3_pool (MaxPooling2D)   (None, 28, 28, 256)       0         \n",
      "_________________________________________________________________\n",
      "block4_conv1 (Conv2D)        (None, 28, 28, 512)       1180160   \n",
      "_________________________________________________________________\n",
      "block4_conv2 (Conv2D)        (None, 28, 28, 512)       2359808   \n",
      "_________________________________________________________________\n",
      "block4_conv3 (Conv2D)        (None, 28, 28, 512)       2359808   \n",
      "_________________________________________________________________\n",
      "block4_conv4 (Conv2D)        (None, 28, 28, 512)       2359808   \n",
      "_________________________________________________________________\n",
      "block4_pool (MaxPooling2D)   (None, 14, 14, 512)       0         \n",
      "_________________________________________________________________\n",
      "block5_conv1 (Conv2D)        (None, 14, 14, 512)       2359808   \n",
      "_________________________________________________________________\n",
      "block5_conv2 (Conv2D)        (None, 14, 14, 512)       2359808   \n",
      "_________________________________________________________________\n",
      "block5_conv3 (Conv2D)        (None, 14, 14, 512)       2359808   \n",
      "_________________________________________________________________\n",
      "block5_conv4 (Conv2D)        (None, 14, 14, 512)       2359808   \n",
      "_________________________________________________________________\n",
      "block5_pool (MaxPooling2D)   (None, 7, 7, 512)         0         \n",
      "_________________________________________________________________\n",
      "flatten (Flatten)            (None, 25088)             0         \n",
      "_________________________________________________________________\n",
      "dense (Dense)                (None, 2)                 50178     \n",
      "=================================================================\n",
      "Total params: 20,074,562\n",
      "Trainable params: 50,178\n",
      "Non-trainable params: 20,024,384\n",
      "_________________________________________________________________\n"
     ]
    }
   ],
   "source": [
    "model.summary()"
   ]
  },
  {
   "cell_type": "code",
   "execution_count": 13,
   "id": "c0db72c4",
   "metadata": {},
   "outputs": [],
   "source": [
    "from tensorflow.keras.layers import MaxPooling2D"
   ]
  },
  {
   "cell_type": "code",
   "execution_count": 15,
   "id": "33774c7e",
   "metadata": {},
   "outputs": [
    {
     "name": "stdout",
     "output_type": "stream",
     "text": [
      "Model: \"sequential_1\"\n",
      "_________________________________________________________________\n",
      "Layer (type)                 Output Shape              Param #   \n",
      "=================================================================\n",
      "conv2d_3 (Conv2D)            (None, 224, 224, 16)      208       \n",
      "_________________________________________________________________\n",
      "max_pooling2d_3 (MaxPooling2 (None, 112, 112, 16)      0         \n",
      "_________________________________________________________________\n",
      "conv2d_4 (Conv2D)            (None, 112, 112, 32)      2080      \n",
      "_________________________________________________________________\n",
      "max_pooling2d_4 (MaxPooling2 (None, 56, 56, 32)        0         \n",
      "_________________________________________________________________\n",
      "conv2d_5 (Conv2D)            (None, 56, 56, 64)        8256      \n",
      "_________________________________________________________________\n",
      "max_pooling2d_5 (MaxPooling2 (None, 28, 28, 64)        0         \n",
      "_________________________________________________________________\n",
      "flatten_2 (Flatten)          (None, 50176)             0         \n",
      "_________________________________________________________________\n",
      "dense_3 (Dense)              (None, 500)               25088500  \n",
      "_________________________________________________________________\n",
      "dense_4 (Dense)              (None, 83)                41583     \n",
      "=================================================================\n",
      "Total params: 25,140,627\n",
      "Trainable params: 25,140,627\n",
      "Non-trainable params: 0\n",
      "_________________________________________________________________\n"
     ]
    }
   ],
   "source": [
    "### Create Model from scratch using CNN\n",
    "model=Sequential()\n",
    "model.add(Conv2D(filters=16,kernel_size=2,padding=\"same\",activation=\"relu\",input_shape=(224,224,3)))\n",
    "model.add(MaxPooling2D(pool_size=2))\n",
    "model.add(Conv2D(filters=32,kernel_size=2,padding=\"same\",activation =\"relu\"))\n",
    "model.add(MaxPooling2D(pool_size=2))\n",
    "model.add(Conv2D(filters=64,kernel_size=2,padding=\"same\",activation=\"relu\"))\n",
    "model.add(MaxPooling2D(pool_size=2))\n",
    "model.add(Flatten())\n",
    "model.add(Dense(500,activation=\"relu\"))\n",
    "model.add(Dense(2,activation=\"softmax\"))\n",
    "model.summary()"
   ]
  },
  {
   "cell_type": "code",
   "execution_count": 11,
   "id": "363a2365",
   "metadata": {},
   "outputs": [],
   "source": [
    "# tell the model what cost and optimization method to use\n",
    "model.compile(\n",
    "  loss='categorical_crossentropy',\n",
    "  optimizer='adam',\n",
    "  metrics=['accuracy']\n",
    ")\n"
   ]
  },
  {
   "cell_type": "code",
   "execution_count": 12,
   "id": "692bca69",
   "metadata": {},
   "outputs": [],
   "source": [
    "# Use the Image Data Generator to import the images from the dataset\n",
    "from tensorflow.keras.preprocessing.image import ImageDataGenerator\n",
    "\n",
    "train_datagen = ImageDataGenerator(rescale = 1./255,\n",
    "                                   shear_range = 0.2,\n",
    "                                   zoom_range = 0.2,\n",
    "                                   horizontal_flip = True)\n",
    "\n",
    "test_datagen = ImageDataGenerator(rescale = 1./255)"
   ]
  },
  {
   "cell_type": "code",
   "execution_count": 13,
   "id": "ead19ed8",
   "metadata": {},
   "outputs": [
    {
     "name": "stdout",
     "output_type": "stream",
     "text": [
      "Found 416 images belonging to 2 classes.\n"
     ]
    }
   ],
   "source": [
    "# Make sure you provide the same target size as initialied for the image size\n",
    "training_set = train_datagen.flow_from_directory('/Users/abhisheksingh/Desktop/Anandi project/Malaria-Detection-master/Dataset/Train',\n",
    "                                                 target_size = (224, 224),\n",
    "                                                 batch_size = 32,\n",
    "                                                 class_mode = 'categorical')"
   ]
  },
  {
   "cell_type": "code",
   "execution_count": 14,
   "id": "dc9ccc21",
   "metadata": {},
   "outputs": [
    {
     "name": "stdout",
     "output_type": "stream",
     "text": [
      "Found 134 images belonging to 2 classes.\n"
     ]
    }
   ],
   "source": [
    "test_set = test_datagen.flow_from_directory('/Users/abhisheksingh/Desktop/Anandi project/Malaria-Detection-master/Dataset/Test',\n",
    "                                            target_size = (224, 224),\n",
    "                                            batch_size = 32,\n",
    "                                            class_mode = 'categorical')"
   ]
  },
  {
   "cell_type": "code",
   "execution_count": 15,
   "id": "91e12bcc",
   "metadata": {},
   "outputs": [
    {
     "name": "stderr",
     "output_type": "stream",
     "text": [
      "/Users/abhisheksingh/miniforge3/envs/tensorflow/lib/python3.9/site-packages/tensorflow/python/keras/engine/training.py:1940: UserWarning: `Model.fit_generator` is deprecated and will be removed in a future version. Please use `Model.fit`, which supports generators.\n",
      "  warnings.warn('`Model.fit_generator` is deprecated and '\n",
      "2022-03-16 19:33:08.414350: I tensorflow/compiler/mlir/mlir_graph_optimization_pass.cc:176] None of the MLIR Optimization Passes are enabled (registered 2)\n",
      "2022-03-16 19:33:08.415519: W tensorflow/core/platform/profile_utils/cpu_utils.cc:128] Failed to get CPU frequency: 0 Hz\n"
     ]
    },
    {
     "name": "stdout",
     "output_type": "stream",
     "text": [
      "Epoch 1/50\n"
     ]
    },
    {
     "name": "stderr",
     "output_type": "stream",
     "text": [
      "2022-03-16 19:33:08.763836: I tensorflow/core/grappler/optimizers/custom_graph_optimizer_registry.cc:112] Plugin optimizer for device_type GPU is enabled.\n"
     ]
    },
    {
     "name": "stdout",
     "output_type": "stream",
     "text": [
      "13/13 [==============================] - ETA: 0s - loss: 1.2895 - accuracy: 0.5505"
     ]
    },
    {
     "name": "stderr",
     "output_type": "stream",
     "text": [
      "2022-03-16 19:33:18.691260: I tensorflow/core/grappler/optimizers/custom_graph_optimizer_registry.cc:112] Plugin optimizer for device_type GPU is enabled.\n"
     ]
    },
    {
     "name": "stdout",
     "output_type": "stream",
     "text": [
      "13/13 [==============================] - 13s 980ms/step - loss: 1.2895 - accuracy: 0.5505 - val_loss: 0.6239 - val_accuracy: 0.6716\n",
      "Epoch 2/50\n",
      "13/13 [==============================] - 12s 948ms/step - loss: 0.6394 - accuracy: 0.6659 - val_loss: 0.5214 - val_accuracy: 0.6940\n",
      "Epoch 3/50\n",
      "13/13 [==============================] - 12s 930ms/step - loss: 0.4763 - accuracy: 0.7596 - val_loss: 0.8208 - val_accuracy: 0.5970\n",
      "Epoch 4/50\n",
      "13/13 [==============================] - 12s 946ms/step - loss: 0.4557 - accuracy: 0.7716 - val_loss: 0.6062 - val_accuracy: 0.7090\n",
      "Epoch 5/50\n",
      "13/13 [==============================] - 12s 955ms/step - loss: 0.4544 - accuracy: 0.7668 - val_loss: 0.4103 - val_accuracy: 0.8060\n",
      "Epoch 6/50\n",
      "13/13 [==============================] - 12s 953ms/step - loss: 0.3197 - accuracy: 0.8822 - val_loss: 0.4664 - val_accuracy: 0.7612\n",
      "Epoch 7/50\n",
      "13/13 [==============================] - 12s 950ms/step - loss: 0.2534 - accuracy: 0.9087 - val_loss: 0.3775 - val_accuracy: 0.8507\n",
      "Epoch 8/50\n",
      "13/13 [==============================] - 12s 941ms/step - loss: 0.2700 - accuracy: 0.8894 - val_loss: 0.5603 - val_accuracy: 0.7164\n",
      "Epoch 9/50\n",
      "13/13 [==============================] - 13s 966ms/step - loss: 0.2349 - accuracy: 0.9135 - val_loss: 0.3489 - val_accuracy: 0.8731\n",
      "Epoch 10/50\n",
      "13/13 [==============================] - 12s 955ms/step - loss: 0.2143 - accuracy: 0.9351 - val_loss: 0.3221 - val_accuracy: 0.8507\n",
      "Epoch 11/50\n",
      "13/13 [==============================] - 12s 952ms/step - loss: 0.2277 - accuracy: 0.9231 - val_loss: 0.5300 - val_accuracy: 0.7388\n",
      "Epoch 12/50\n",
      "13/13 [==============================] - 12s 953ms/step - loss: 0.2495 - accuracy: 0.9014 - val_loss: 0.3551 - val_accuracy: 0.7761\n",
      "Epoch 13/50\n",
      "13/13 [==============================] - 12s 962ms/step - loss: 0.2057 - accuracy: 0.9207 - val_loss: 0.3096 - val_accuracy: 0.8731\n",
      "Epoch 14/50\n",
      "13/13 [==============================] - 12s 965ms/step - loss: 0.1832 - accuracy: 0.9327 - val_loss: 0.3275 - val_accuracy: 0.8582\n",
      "Epoch 15/50\n",
      "13/13 [==============================] - 13s 987ms/step - loss: 0.1669 - accuracy: 0.9471 - val_loss: 0.3976 - val_accuracy: 0.7836\n",
      "Epoch 16/50\n",
      "13/13 [==============================] - 13s 988ms/step - loss: 0.1681 - accuracy: 0.9471 - val_loss: 0.2461 - val_accuracy: 0.9403\n",
      "Epoch 17/50\n",
      "13/13 [==============================] - 13s 1s/step - loss: 0.1513 - accuracy: 0.9399 - val_loss: 0.2436 - val_accuracy: 0.9328\n",
      "Epoch 18/50\n",
      "13/13 [==============================] - 13s 986ms/step - loss: 0.1713 - accuracy: 0.9447 - val_loss: 0.4901 - val_accuracy: 0.7537\n",
      "Epoch 19/50\n",
      "13/13 [==============================] - 13s 1s/step - loss: 0.1696 - accuracy: 0.9495 - val_loss: 0.3162 - val_accuracy: 0.8582\n",
      "Epoch 20/50\n",
      "13/13 [==============================] - 14s 1s/step - loss: 0.1566 - accuracy: 0.9423 - val_loss: 0.2371 - val_accuracy: 0.9179\n",
      "Epoch 21/50\n",
      "13/13 [==============================] - 13s 1s/step - loss: 0.2088 - accuracy: 0.9111 - val_loss: 0.3898 - val_accuracy: 0.7836\n",
      "Epoch 22/50\n",
      "13/13 [==============================] - 14s 1s/step - loss: 0.2339 - accuracy: 0.9063 - val_loss: 0.2855 - val_accuracy: 0.8731\n",
      "Epoch 23/50\n",
      "13/13 [==============================] - 13s 1s/step - loss: 0.2070 - accuracy: 0.9183 - val_loss: 0.2498 - val_accuracy: 0.8955\n",
      "Epoch 24/50\n",
      "13/13 [==============================] - 14s 1s/step - loss: 0.1409 - accuracy: 0.9471 - val_loss: 0.4009 - val_accuracy: 0.7910\n",
      "Epoch 25/50\n",
      "13/13 [==============================] - 14s 1s/step - loss: 0.1447 - accuracy: 0.9399 - val_loss: 0.2215 - val_accuracy: 0.9179\n",
      "Epoch 26/50\n",
      "13/13 [==============================] - 14s 1s/step - loss: 0.1207 - accuracy: 0.9639 - val_loss: 0.2928 - val_accuracy: 0.8881\n",
      "Epoch 27/50\n",
      "13/13 [==============================] - 14s 1s/step - loss: 0.1069 - accuracy: 0.9663 - val_loss: 0.1985 - val_accuracy: 0.9403\n",
      "Epoch 28/50\n",
      "13/13 [==============================] - 13s 1s/step - loss: 0.1148 - accuracy: 0.9808 - val_loss: 0.2415 - val_accuracy: 0.9030\n",
      "Epoch 29/50\n",
      "13/13 [==============================] - 14s 1s/step - loss: 0.1127 - accuracy: 0.9688 - val_loss: 0.2997 - val_accuracy: 0.8657\n",
      "Epoch 30/50\n",
      "13/13 [==============================] - 14s 1s/step - loss: 0.1132 - accuracy: 0.9615 - val_loss: 0.3343 - val_accuracy: 0.8358\n",
      "Epoch 31/50\n",
      "13/13 [==============================] - 14s 1s/step - loss: 0.1136 - accuracy: 0.9663 - val_loss: 0.2129 - val_accuracy: 0.9328\n",
      "Epoch 32/50\n",
      "13/13 [==============================] - 14s 1s/step - loss: 0.1064 - accuracy: 0.9591 - val_loss: 0.2435 - val_accuracy: 0.9104\n",
      "Epoch 33/50\n",
      "13/13 [==============================] - 14s 1s/step - loss: 0.1061 - accuracy: 0.9663 - val_loss: 0.2462 - val_accuracy: 0.8955\n",
      "Epoch 34/50\n",
      "13/13 [==============================] - 14s 1s/step - loss: 0.0872 - accuracy: 0.9760 - val_loss: 0.2030 - val_accuracy: 0.9254\n",
      "Epoch 35/50\n",
      "13/13 [==============================] - 14s 1s/step - loss: 0.1209 - accuracy: 0.9615 - val_loss: 1.0871 - val_accuracy: 0.6194\n",
      "Epoch 36/50\n",
      "13/13 [==============================] - 14s 1s/step - loss: 0.1751 - accuracy: 0.9399 - val_loss: 0.2743 - val_accuracy: 0.9104\n",
      "Epoch 37/50\n",
      "13/13 [==============================] - 14s 1s/step - loss: 0.0962 - accuracy: 0.9784 - val_loss: 0.2626 - val_accuracy: 0.8955\n",
      "Epoch 38/50\n",
      "13/13 [==============================] - 14s 1s/step - loss: 0.0880 - accuracy: 0.9736 - val_loss: 0.3654 - val_accuracy: 0.8060\n",
      "Epoch 39/50\n",
      "13/13 [==============================] - 15s 1s/step - loss: 0.1022 - accuracy: 0.9663 - val_loss: 0.2054 - val_accuracy: 0.9254\n",
      "Epoch 40/50\n",
      "13/13 [==============================] - 14s 1s/step - loss: 0.0840 - accuracy: 0.9784 - val_loss: 0.2068 - val_accuracy: 0.9254\n",
      "Epoch 41/50\n",
      "13/13 [==============================] - 14s 1s/step - loss: 0.0925 - accuracy: 0.9736 - val_loss: 0.4400 - val_accuracy: 0.7985\n",
      "Epoch 42/50\n",
      "13/13 [==============================] - 15s 1s/step - loss: 0.1065 - accuracy: 0.9591 - val_loss: 0.2102 - val_accuracy: 0.9328\n",
      "Epoch 43/50\n",
      "13/13 [==============================] - 14s 1s/step - loss: 0.1009 - accuracy: 0.9639 - val_loss: 0.3936 - val_accuracy: 0.8134\n",
      "Epoch 44/50\n",
      "13/13 [==============================] - 15s 1s/step - loss: 0.0919 - accuracy: 0.9712 - val_loss: 0.2587 - val_accuracy: 0.8657\n",
      "Epoch 45/50\n",
      "13/13 [==============================] - 15s 1s/step - loss: 0.0906 - accuracy: 0.9736 - val_loss: 0.2791 - val_accuracy: 0.8433\n",
      "Epoch 46/50\n",
      "13/13 [==============================] - 14s 1s/step - loss: 0.0857 - accuracy: 0.9736 - val_loss: 0.2093 - val_accuracy: 0.9030\n",
      "Epoch 47/50\n",
      "13/13 [==============================] - 15s 1s/step - loss: 0.0858 - accuracy: 0.9663 - val_loss: 0.1833 - val_accuracy: 0.9254\n",
      "Epoch 48/50\n",
      "13/13 [==============================] - 15s 1s/step - loss: 0.0985 - accuracy: 0.9688 - val_loss: 0.1823 - val_accuracy: 0.9254\n",
      "Epoch 49/50\n",
      "13/13 [==============================] - 15s 1s/step - loss: 0.1240 - accuracy: 0.9543 - val_loss: 0.6340 - val_accuracy: 0.7612\n",
      "Epoch 50/50\n",
      "13/13 [==============================] - 15s 1s/step - loss: 0.0958 - accuracy: 0.9688 - val_loss: 0.2167 - val_accuracy: 0.9104\n"
     ]
    }
   ],
   "source": [
    "r = model.fit_generator(\n",
    "  training_set,\n",
    "  validation_data=test_set,\n",
    "  epochs=50,\n",
    "  steps_per_epoch=len(training_set),\n",
    "  validation_steps=len(test_set)\n",
    ")"
   ]
  },
  {
   "cell_type": "code",
   "execution_count": null,
   "id": "5123a742",
   "metadata": {},
   "outputs": [],
   "source": []
  },
  {
   "cell_type": "code",
   "execution_count": 21,
   "id": "7263b93b",
   "metadata": {},
   "outputs": [
    {
     "data": {
      "image/png": "[encoded data removed]",
      "text/plain": [
       "<Figure size 432x288 with 1 Axes>"
      ]
     },
     "metadata": {
      "needs_background": "light"
     },
     "output_type": "display_data"
    },
    {
     "data": {
      "image/png": "[encoded data removed]",
      "text/plain": [
       "<Figure size 432x288 with 1 Axes>"
      ]
     },
     "metadata": {
      "needs_background": "light"
     },
     "output_type": "display_data"
    },
    {
     "data": {
      "text/plain": [
       "<Figure size 432x288 with 0 Axes>"
      ]
     },
     "metadata": {},
     "output_type": "display_data"
    }
   ],
   "source": [
    "# plot the loss\n",
    "plt.plot(r.history['loss'], label='train loss')\n",
    "plt.plot(r.history['val_loss'], label='val loss')\n",
    "plt.legend()\n",
    "plt.show()\n",
    "plt.savefig('LossVal_loss')\n",
    "\n",
    "# plot the accuracy\n",
    "plt.plot(r.history['accuracy'], label='train acc')\n",
    "plt.plot(r.history['val_accuracy'], label='val acc')\n",
    "plt.legend()\n",
    "plt.show()\n",
    "plt.savefig('AccVal_acc')"
   ]
  },
  {
   "cell_type": "code",
   "execution_count": 22,
   "id": "25b06e1b",
   "metadata": {},
   "outputs": [],
   "source": [
    "# save it as a h5 file\n",
    "\n",
    "\n",
    "from tensorflow.keras.models import load_model\n",
    "\n",
    "model.save('model_vgg19.h5')"
   ]
  },
  {
   "cell_type": "code",
   "execution_count": 23,
   "id": "3e4c059e",
   "metadata": {},
   "outputs": [
    {
     "name": "stderr",
     "output_type": "stream",
     "text": [
      "2022-03-10 17:47:45.747604: I tensorflow/core/grappler/optimizers/custom_graph_optimizer_registry.cc:112] Plugin optimizer for device_type GPU is enabled.\n"
     ]
    }
   ],
   "source": [
    "y_pred = model.predict(test_set)\n"
   ]
  },
  {
   "cell_type": "code",
   "execution_count": 24,
   "id": "3b246ca1",
   "metadata": {},
   "outputs": [
    {
     "data": {
      "text/plain": [
       "array([[7.85859823e-02, 9.21414077e-01],\n",
       "       [1.00000000e+00, 1.57134410e-11],\n",
       "       [1.00000000e+00, 5.54948379e-11],\n",
       "       [1.00000000e+00, 1.67400493e-08],\n",
       "       [1.00000000e+00, 2.19564394e-10],\n",
       "       [1.00000000e+00, 1.81356520e-17],\n",
       "       [9.99999046e-01, 9.35798028e-07],\n",
       "       [2.54850159e-03, 9.97451484e-01],\n",
       "       [1.00000000e+00, 9.20254359e-11],\n",
       "       [9.99937415e-01, 6.25230750e-05],\n",
       "       [9.99999881e-01, 8.34266913e-08],\n",
       "       [1.00000000e+00, 5.12424990e-15],\n",
       "       [9.99999285e-01, 7.48070761e-07],\n",
       "       [1.00000000e+00, 4.51509950e-13],\n",
       "       [6.54589059e-03, 9.93454099e-01],\n",
       "       [1.60725378e-02, 9.83927429e-01],\n",
       "       [1.07703358e-02, 9.89229620e-01],\n",
       "       [5.63277304e-02, 9.43672299e-01],\n",
       "       [3.04054609e-03, 9.96959448e-01],\n",
       "       [9.99999881e-01, 6.27865546e-08],\n",
       "       [3.47950831e-02, 9.65205014e-01],\n",
       "       [9.99995589e-01, 4.40938356e-06],\n",
       "       [9.99982834e-01, 1.71707743e-05],\n",
       "       [9.96557236e-01, 3.44284833e-03],\n",
       "       [9.99999285e-01, 7.08321807e-07],\n",
       "       [9.36151668e-03, 9.90638494e-01],\n",
       "       [2.80615315e-02, 9.71938431e-01],\n",
       "       [1.00000000e+00, 2.83399470e-13],\n",
       "       [3.23817097e-02, 9.67618287e-01],\n",
       "       [1.00000000e+00, 8.23789092e-10],\n",
       "       [2.95749400e-03, 9.97042477e-01],\n",
       "       [1.00000000e+00, 3.63490037e-33],\n",
       "       [9.99999881e-01, 6.04235169e-08],\n",
       "       [1.14100315e-01, 8.85899723e-01],\n",
       "       [1.00000000e+00, 6.72757531e-13],\n",
       "       [1.00000000e+00, 1.02813980e-18],\n",
       "       [7.99396932e-02, 9.20060396e-01],\n",
       "       [9.99623716e-01, 3.76364158e-04],\n",
       "       [1.00000000e+00, 1.43707997e-08],\n",
       "       [1.00000000e+00, 4.18295671e-20],\n",
       "       [1.00000000e+00, 4.78410755e-10],\n",
       "       [1.00000000e+00, 1.11453593e-08],\n",
       "       [1.20447101e-02, 9.87955332e-01],\n",
       "       [9.25562065e-03, 9.90744412e-01],\n",
       "       [3.37936962e-03, 9.96620655e-01],\n",
       "       [7.93841109e-03, 9.92061615e-01],\n",
       "       [1.00000000e+00, 5.03709003e-08],\n",
       "       [1.00000000e+00, 1.68582999e-17],\n",
       "       [2.47904927e-01, 7.52095044e-01],\n",
       "       [2.43746459e-01, 7.56253600e-01],\n",
       "       [1.03353821e-02, 9.89664614e-01],\n",
       "       [1.79757681e-02, 9.82024193e-01],\n",
       "       [1.23009887e-02, 9.87699032e-01],\n",
       "       [1.00000000e+00, 1.98984709e-14],\n",
       "       [1.00000000e+00, 5.88037285e-21],\n",
       "       [1.00000000e+00, 1.17071108e-09],\n",
       "       [1.70246828e-02, 9.82975304e-01],\n",
       "       [9.99999881e-01, 9.50691899e-08],\n",
       "       [4.65187244e-03, 9.95348155e-01],\n",
       "       [6.54969411e-03, 9.93450344e-01],\n",
       "       [6.32938929e-03, 9.93670642e-01],\n",
       "       [1.00000000e+00, 3.18907990e-11],\n",
       "       [1.00000000e+00, 1.74491921e-09],\n",
       "       [9.96343326e-04, 9.99003708e-01],\n",
       "       [9.99995351e-01, 4.59212742e-06],\n",
       "       [1.00000000e+00, 1.09451490e-10],\n",
       "       [2.11498756e-02, 9.78850186e-01],\n",
       "       [1.00000000e+00, 4.45732257e-27],\n",
       "       [1.00000000e+00, 0.00000000e+00],\n",
       "       [9.99999881e-01, 9.71540146e-08],\n",
       "       [1.00000000e+00, 6.86460978e-17],\n",
       "       [9.68679786e-01, 3.13202515e-02],\n",
       "       [1.54842556e-01, 8.45157504e-01],\n",
       "       [3.06126103e-02, 9.69387352e-01],\n",
       "       [1.36000160e-02, 9.86400008e-01],\n",
       "       [3.09882928e-02, 9.69011664e-01],\n",
       "       [1.00000000e+00, 5.04876902e-28],\n",
       "       [3.01702437e-03, 9.96982992e-01],\n",
       "       [1.00000000e+00, 2.01527076e-11],\n",
       "       [9.99996543e-01, 3.42289741e-06],\n",
       "       [9.41273212e-01, 5.87267615e-02],\n",
       "       [9.99932528e-01, 6.74572730e-05],\n",
       "       [7.36011341e-02, 9.26398814e-01],\n",
       "       [1.00000000e+00, 8.37554960e-13],\n",
       "       [9.92976785e-01, 7.02321902e-03],\n",
       "       [1.00000000e+00, 5.02829372e-34],\n",
       "       [1.00000000e+00, 1.68608127e-09],\n",
       "       [7.19690099e-02, 9.28031027e-01],\n",
       "       [9.99997258e-01, 2.69228872e-06],\n",
       "       [5.68158459e-03, 9.94318426e-01],\n",
       "       [1.00000000e+00, 8.94448936e-27],\n",
       "       [1.04015963e-02, 9.89598393e-01],\n",
       "       [1.00000000e+00, 1.65309183e-10],\n",
       "       [9.99994278e-01, 5.71857299e-06],\n",
       "       [4.73179435e-03, 9.95268226e-01],\n",
       "       [9.99999881e-01, 1.31521460e-07],\n",
       "       [1.00000000e+00, 1.06598730e-09],\n",
       "       [1.00000000e+00, 2.30043207e-09],\n",
       "       [1.00000000e+00, 1.41449722e-21],\n",
       "       [3.33652124e-02, 9.66634750e-01],\n",
       "       [1.00000000e+00, 8.57790117e-10],\n",
       "       [9.99999642e-01, 4.06401881e-07],\n",
       "       [4.73817857e-03, 9.95261848e-01],\n",
       "       [1.00000000e+00, 1.23109870e-10],\n",
       "       [1.00000000e+00, 1.21132921e-11],\n",
       "       [1.00000000e+00, 7.14730583e-16],\n",
       "       [1.00000000e+00, 4.54369384e-16],\n",
       "       [3.39448482e-01, 6.60551548e-01],\n",
       "       [9.99962091e-01, 3.78567165e-05],\n",
       "       [1.00000000e+00, 7.66400010e-09],\n",
       "       [7.36460209e-01, 2.63539791e-01],\n",
       "       [1.00000000e+00, 3.63909321e-33],\n",
       "       [1.00000000e+00, 1.14021579e-11],\n",
       "       [9.99673128e-01, 3.26861569e-04],\n",
       "       [1.00000000e+00, 6.78924417e-11],\n",
       "       [1.03891030e-01, 8.96108985e-01],\n",
       "       [1.00000000e+00, 6.67163200e-11],\n",
       "       [8.21704231e-03, 9.91782904e-01],\n",
       "       [9.54167359e-03, 9.90458369e-01],\n",
       "       [4.36074054e-03, 9.95639265e-01],\n",
       "       [9.99387503e-01, 6.12470962e-04],\n",
       "       [7.31317326e-03, 9.92686868e-01],\n",
       "       [4.04264539e-01, 5.95735431e-01],\n",
       "       [9.43798065e-01, 5.62019832e-02],\n",
       "       [1.00000000e+00, 8.83187479e-09],\n",
       "       [2.47030775e-03, 9.97529685e-01],\n",
       "       [1.00000000e+00, 1.85740712e-09],\n",
       "       [8.64828564e-03, 9.91351724e-01],\n",
       "       [1.00000000e+00, 4.04435036e-12],\n",
       "       [8.19817372e-03, 9.91801798e-01],\n",
       "       [9.99991298e-01, 8.65983202e-06],\n",
       "       [4.19681333e-03, 9.95803177e-01],\n",
       "       [9.99997377e-01, 2.57670672e-06],\n",
       "       [1.00000000e+00, 2.54109456e-10]], dtype=float32)"
      ]
     },
     "execution_count": 24,
     "metadata": {},
     "output_type": "execute_result"
    }
   ],
   "source": [
    "y_pred"
   ]
  },
  {
   "cell_type": "code",
   "execution_count": 25,
   "id": "5a5ef46e",
   "metadata": {},
   "outputs": [],
   "source": [
    "import numpy as np\n",
    "y_pred = np.argmax(y_pred, axis=1)"
   ]
  },
  {
   "cell_type": "code",
   "execution_count": 26,
   "id": "3fd5d33a",
   "metadata": {},
   "outputs": [
    {
     "data": {
      "text/plain": [
       "array([1, 0, 0, 0, 0, 0, 0, 1, 0, 0, 0, 0, 0, 0, 1, 1, 1, 1, 1, 0, 1, 0,\n",
       "       0, 0, 0, 1, 1, 0, 1, 0, 1, 0, 0, 1, 0, 0, 1, 0, 0, 0, 0, 0, 1, 1,\n",
       "       1, 1, 0, 0, 1, 1, 1, 1, 1, 0, 0, 0, 1, 0, 1, 1, 1, 0, 0, 1, 0, 0,\n",
       "       1, 0, 0, 0, 0, 0, 1, 1, 1, 1, 0, 1, 0, 0, 0, 0, 1, 0, 0, 0, 0, 1,\n",
       "       0, 1, 0, 1, 0, 0, 1, 0, 0, 0, 0, 1, 0, 0, 1, 0, 0, 0, 0, 1, 0, 0,\n",
       "       0, 0, 0, 0, 0, 1, 0, 1, 1, 1, 0, 1, 1, 0, 0, 1, 0, 1, 0, 1, 0, 1,\n",
       "       0, 0])"
      ]
     },
     "execution_count": 26,
     "metadata": {},
     "output_type": "execute_result"
    }
   ],
   "source": [
    "y_pred"
   ]
  },
  {
   "cell_type": "code",
   "execution_count": 27,
   "id": "dee0023c",
   "metadata": {},
   "outputs": [],
   "source": [
    "from tensorflow.keras.models import load_model\n",
    "from tensorflow.keras.preprocessing import image"
   ]
  },
  {
   "cell_type": "code",
   "execution_count": 28,
   "id": "b592b3d4",
   "metadata": {},
   "outputs": [],
   "source": [
    "odel=load_model('model_vgg19.h5')"
   ]
  },
  {
   "cell_type": "code",
   "execution_count": 29,
   "id": "18d05287",
   "metadata": {},
   "outputs": [],
   "source": [
    "img=image.load_img('/Users/abhisheksingh/Desktop/Anandi project/Malaria-Detection-master/Dataset/Test/Uninfected/2.png',target_size=(224,224))"
   ]
  },
  {
   "cell_type": "code",
   "execution_count": 30,
   "id": "2ac4bd0d",
   "metadata": {},
   "outputs": [
    {
     "data": {
      "text/plain": [
       "array([[[0., 0., 0.],\n",
       "        [0., 0., 0.],\n",
       "        [0., 0., 0.],\n",
       "        ...,\n",
       "        [0., 0., 0.],\n",
       "        [0., 0., 0.],\n",
       "        [0., 0., 0.]],\n",
       "\n",
       "       [[0., 0., 0.],\n",
       "        [0., 0., 0.],\n",
       "        [0., 0., 0.],\n",
       "        ...,\n",
       "        [0., 0., 0.],\n",
       "        [0., 0., 0.],\n",
       "        [0., 0., 0.]],\n",
       "\n",
       "       [[0., 0., 0.],\n",
       "        [0., 0., 0.],\n",
       "        [0., 0., 0.],\n",
       "        ...,\n",
       "        [0., 0., 0.],\n",
       "        [0., 0., 0.],\n",
       "        [0., 0., 0.]],\n",
       "\n",
       "       ...,\n",
       "\n",
       "       [[0., 0., 0.],\n",
       "        [0., 0., 0.],\n",
       "        [0., 0., 0.],\n",
       "        ...,\n",
       "        [0., 0., 0.],\n",
       "        [0., 0., 0.],\n",
       "        [0., 0., 0.]],\n",
       "\n",
       "       [[0., 0., 0.],\n",
       "        [0., 0., 0.],\n",
       "        [0., 0., 0.],\n",
       "        ...,\n",
       "        [0., 0., 0.],\n",
       "        [0., 0., 0.],\n",
       "        [0., 0., 0.]],\n",
       "\n",
       "       [[0., 0., 0.],\n",
       "        [0., 0., 0.],\n",
       "        [0., 0., 0.],\n",
       "        ...,\n",
       "        [0., 0., 0.],\n",
       "        [0., 0., 0.],\n",
       "        [0., 0., 0.]]], dtype=float32)"
      ]
     },
     "execution_count": 30,
     "metadata": {},
     "output_type": "execute_result"
    }
   ],
   "source": [
    "x=image.img_to_array(img)\n",
    "x"
   ]
  },
  {
   "cell_type": "code",
   "execution_count": 31,
   "id": "5004009f",
   "metadata": {},
   "outputs": [
    {
     "data": {
      "text/plain": [
       "(224, 224, 3)"
      ]
     },
     "execution_count": 31,
     "metadata": {},
     "output_type": "execute_result"
    }
   ],
   "source": [
    "x.shape"
   ]
  },
  {
   "cell_type": "code",
   "execution_count": 32,
   "id": "aad6f52b",
   "metadata": {},
   "outputs": [],
   "source": [
    "x=x/255"
   ]
  },
  {
   "cell_type": "code",
   "execution_count": 33,
   "id": "be24fc37",
   "metadata": {},
   "outputs": [
    {
     "data": {
      "text/plain": [
       "(1, 224, 224, 3)"
      ]
     },
     "execution_count": 33,
     "metadata": {},
     "output_type": "execute_result"
    }
   ],
   "source": [
    "x=np.expand_dims(x,axis=0)\n",
    "img_data=preprocess_input(x)\n",
    "img_data.shape"
   ]
  },
  {
   "cell_type": "code",
   "execution_count": 34,
   "id": "a85722d8",
   "metadata": {},
   "outputs": [
    {
     "name": "stderr",
     "output_type": "stream",
     "text": [
      "2022-03-10 17:50:19.793181: I tensorflow/core/grappler/optimizers/custom_graph_optimizer_registry.cc:112] Plugin optimizer for device_type GPU is enabled.\n"
     ]
    },
    {
     "data": {
      "text/plain": [
       "array([[0., 1.]], dtype=float32)"
      ]
     },
     "execution_count": 34,
     "metadata": {},
     "output_type": "execute_result"
    }
   ],
   "source": [
    "model.predict(img_data)"
   ]
  },
  {
   "cell_type": "code",
   "execution_count": 35,
   "id": "077d7c99",
   "metadata": {},
   "outputs": [],
   "source": [
    "a=np.argmax(model.predict(img_data), axis=1)"
   ]
  },
  {
   "cell_type": "code",
   "execution_count": 36,
   "id": "42c2a696",
   "metadata": {},
   "outputs": [
    {
     "name": "stdout",
     "output_type": "stream",
     "text": [
      "Uninfected\n"
     ]
    }
   ],
   "source": [
    "if(a==1):\n",
    "    print(\"Uninfected\")\n",
    "else:\n",
    "    print(\"Infected\")"
   ]
  },
  {
   "cell_type": "code",
   "execution_count": null,
   "id": "9207f5b8",
   "metadata": {},
   "outputs": [],
   "source": []
  }
 ],
 "metadata": {
  "kernelspec": {
   "display_name": "Python 3.9 (tensorflow)",
   "language": "python",
   "name": "tensorflow"
  },
  "language_info": {
   "codemirror_mode": {
    "name": "ipython",
    "version": 3
   },
   "file_extension": ".py",
   "mimetype": "text/x-python",
   "name": "python",
   "nbconvert_exporter": "python",
   "pygments_lexer": "ipython3",
   "version": "3.9.7"
  }
 },
 "nbformat": 4,
 "nbformat_minor": 5
}
